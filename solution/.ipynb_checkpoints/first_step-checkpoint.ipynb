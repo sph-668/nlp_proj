{
 "cells": [
  {
   "cell_type": "markdown",
   "metadata": {},
   "source": [
    "В этом ноутбуке я векторизовала документы с помощью doc2vec, смотрела, какие алгоритмы работают лучше и проверяла, для какой \n",
    "из 3 предобработанных выборок они работают лучше"
   ]
  },
  {
   "cell_type": "code",
   "execution_count": 1,
   "metadata": {},
   "outputs": [],
   "source": [
    "import nltk\n",
    "import pandas as pd\n",
    "import sklearn"
   ]
  },
  {
   "cell_type": "code",
   "execution_count": 6,
   "metadata": {},
   "outputs": [],
   "source": [
    "from gensim.models.doc2vec import Doc2Vec, TaggedDocument\n",
    "from sklearn.model_selection import train_test_split\n",
    "from sklearn.preprocessing import StandardScaler\n",
    "from sklearn.linear_model import LogisticRegression\n",
    "from sklearn.svm import SVC\n",
    "from xgboost import XGBClassifier\n",
    "from sklearn.metrics import classification_report\n",
    "from sklearn.metrics import f1_score\n",
    "import matplotlib.pyplot as plt"
   ]
  },
  {
   "cell_type": "code",
   "execution_count": 3,
   "metadata": {},
   "outputs": [],
   "source": [
    "import re\n",
    "from nltk.corpus import stopwords\n",
    "from nltk.tokenize import word_tokenize\n",
    "import pymorphy2\n",
    "\n",
    "\n",
    "morph = pymorphy2.MorphAnalyzer()\n",
    "\n",
    "def text_preprocessing(text, id_):\n",
    "    text = text.lower() \n",
    "    text = text.replace('ё', 'е')                               \n",
    "    if (id_ == 1):\n",
    "        text = re.sub(r\"[^А-Яа-яЁё]\", \" \", text) \n",
    "    elif (id_ == 2):\n",
    "        text = re.sub(r\"[^«»-А-Яа-яЁё]\", \" \", text)                                                                                # удаляем все некириллические символы\n",
    "    else:\n",
    "        text = text\n",
    "    words = word_tokenize(text)                                                 \n",
    "    words = [morph.parse(word)[0].normal_form for word in words]                \n",
    "    words = [word for word in words if word not in stopwords.words(\"russian\")] \n",
    "    return words"
   ]
  },
  {
   "cell_type": "markdown",
   "metadata": {},
   "source": [
    "Описание всех классификаторов, которые я использовала для исследования в этом ноутбуке"
   ]
  },
  {
   "cell_type": "code",
   "execution_count": 7,
   "metadata": {},
   "outputs": [],
   "source": [
    "def log_reg(X_train, y_train, X_test, y_test):\n",
    "    sc = StandardScaler()\n",
    "    sc.fit(X_train)                                 \n",
    "    X_train_std = sc.transform(X_train)              \n",
    "    X_test_std = sc.transform(X_test)                \n",
    "    lr = LogisticRegression(random_state=21, max_iter = 2000)\n",
    "    lr.fit(X_train_std, y_train)                     \n",
    "    y_pred = lr.predict(X_test_std)                  \n",
    "    return y_pred"
   ]
  },
  {
   "cell_type": "code",
   "execution_count": 8,
   "metadata": {},
   "outputs": [],
   "source": [
    "def xgb_(X_train, y_train, X_test, depth, est):\n",
    "    xgb = XGBClassifier(max_depth=depth, n_estimators=est)\n",
    "    xgb.fit(X_train, y_train)\n",
    "    y_pred = xgb.predict(X_test)\n",
    "    return y_pred"
   ]
  },
  {
   "cell_type": "code",
   "execution_count": 9,
   "metadata": {},
   "outputs": [],
   "source": [
    "def svc_(X_train, y_train, X_test, kern):\n",
    "    svclassifier = SVC(kernel=kern)\n",
    "    svclassifier.fit(X_train, y_train)\n",
    "    y_pred = svclassifier.predict(X_test)\n",
    "    return y_pred"
   ]
  },
  {
   "cell_type": "code",
   "execution_count": null,
   "metadata": {},
   "outputs": [],
   "source": [
    "Вспомогательные модули для обучения doc2vec, преобразования текста, рисования графиков и тестирования классификаторов"
   ]
  },
  {
   "cell_type": "code",
   "execution_count": 10,
   "metadata": {},
   "outputs": [],
   "source": [
    "def transform_text_array_to_vector_dataframe(text_array, d2v):\n",
    "        columns = [str(n) for n in range(d2v.vector_size)]  # задаем список названий колонок - просто порядковые номера\n",
    "        vectors_ndarray = text_array.apply(d2v.infer_vector).to_list()  # прогоняем каждый текст через модель doc2vec\n",
    "        return pd.DataFrame(vectors_ndarray, columns=columns)  # оборачиваем его в датафрейм"
   ]
  },
  {
   "cell_type": "code",
   "execution_count": 11,
   "metadata": {},
   "outputs": [],
   "source": [
    "def teach_d2v(preprocessed_train, v_s, min_c, epo):\n",
    "    headers = [TaggedDocument(doc, [i]) for i, doc in enumerate(preprocessed_train.title)]  # преобразуем тексты в объекты, понятные док-2-веку\n",
    "    d2v = Doc2Vec(headers, min_count=min_c, vector_size = v_s)  # модель Doc2Vec\n",
    "    d2v.train(headers, total_examples=len(headers), epochs=epo) # подберем веса коэффициентов внутри модели, которые больше будут подходить к нашему набору текстов\n",
    "    X_train = transform_text_array_to_vector_dataframe(X_train_texts, d2v)       \n",
    "    X_test = transform_text_array_to_vector_dataframe(X_test_texts, d2v)\n",
    "    \n",
    "    return X_train, X_test, d2v"
   ]
  },
  {
   "cell_type": "code",
   "execution_count": 12,
   "metadata": {},
   "outputs": [],
   "source": [
    "def test_d2v(num, v_s, min_c, epo, preprocessed_train, y_train, y_test, f1_xgb, f1_l, f1_p, f1_r, f1_s, f1_log):\n",
    "    X_train, X_test, d2v = teach_d2v(preprocessed_train, v_s, min_c, epo)\n",
    "    file = \"doc2vecs/\" + str(num)+ \"/d2v_\" + str(v_s)+ '.model'\n",
    "    d2v.save(file)\n",
    "    print(\"vecs = \", i)\n",
    "    y_pred = xgb_(X_train, y_train, X_test, 50, 800)\n",
    "    f1_xgb.append(f1_score(y_pred, y_test))\n",
    "    for j in kernels:\n",
    "        y_pred = svc_(X_train, y_train, X_test, j)\n",
    "        if j == 'linear':\n",
    "            f1_l.append(f1_score(y_pred, y_test))\n",
    "        elif j == 'poly':\n",
    "            f1_p.append(f1_score(y_pred, y_test))\n",
    "        elif j == 'rbf':\n",
    "            f1_r.append(f1_score(y_pred, y_test))\n",
    "        else:\n",
    "            f1_s.append(f1_score(y_pred, y_test))\n",
    "    y_pred = log_reg(X_train, y_train, X_test, y_test)\n",
    "    f1_log.append(f1_score(y_pred, y_test))"
   ]
  },
  {
   "cell_type": "code",
   "execution_count": 13,
   "metadata": {},
   "outputs": [],
   "source": [
    "def graphic(num, vecs, f1_xgb, f1_l, f1_p, f1_r, f1_s, f1_log):\n",
    "    fig, ax = plt.subplots()                        # будет 1 график, на нем:\n",
    "    ax.plot(vecs, f1_xgb, color=\"blue\", label=\"xgb\")      # функция y1(x), синий, надпись y(x)\n",
    "    ax.plot(vecs, f1_l, color=\"red\", label=\"linear\")      # функция y2(x), красный, надпись y'(x)\n",
    "    ax.plot(vecs, f1_p, color=\"green\", label=\"poly\")   # функция y3(x), зеленый, надпись y''(x)\n",
    "    ax.plot(vecs, f1_r, color=\"pink\", label=\"rbf\")\n",
    "    ax.plot(vecs, f1_s, color=\"black\", label=\"sigmoid\")\n",
    "    ax.plot(vecs, f1_log, color=\"yellow\", label=\"log_reg\")\n",
    "    ax.set_xlabel(\"parametr\")                              # подпись у горизонтальной оси х\n",
    "    ax.set_ylabel(\"f1_score\")                              # подпись у вертикальной оси y\n",
    "    ax.legend()                                     # показывать условные обозначения\n",
    "\n",
    "    plt.show()                                      # показать рисунок\n",
    "\n",
    "    "
   ]
  },
  {
   "cell_type": "code",
   "execution_count": 2,
   "metadata": {},
   "outputs": [],
   "source": [
    "train = pd.read_csv(\"../dataset/train.tsv\",sep='\\t', header = 0)\n",
    "test = pd.read_csv(\"../dataset/test.tsv\",sep='\\t', header = 0)"
   ]
  },
  {
   "cell_type": "code",
   "execution_count": 4,
   "metadata": {},
   "outputs": [],
   "source": [
    "preprocessed_train = train.copy(deep = True)\n",
    "preprocessed_train_with_def = train.copy(deep = True)\n",
    "preprocessed_train_with_ev = train.copy(deep = True)"
   ]
  },
  {
   "cell_type": "code",
   "execution_count": 5,
   "metadata": {},
   "outputs": [],
   "source": [
    "preprocessed_train.title = train.title.apply(text_preprocessing, args=(1,))\n",
    "preprocessed_train_with_def.title = train.title.apply(text_preprocessing, args=(2,))\n",
    "preprocessed_train_with_ev.title = train.title.apply(text_preprocessing, args=(3,))"
   ]
  },
  {
   "cell_type": "markdown",
   "metadata": {},
   "source": [
    "Я работала с параметрами doc2vec, такими как длина вектора, которым будут представлены документы.\n",
    "И минимальное количество слов, при котором они будут учитываться при расчете\n",
    "Этот способ я реализовывала самым первым, поэтому, например, про gridsearch я еще не знала и параметры перебирались вручную"
   ]
  },
  {
   "cell_type": "code",
   "execution_count": 37,
   "metadata": {},
   "outputs": [],
   "source": [
    "vecs = [5, 10, 30, 50, 100, 150, 200, 300, 400]\n",
    "min_c = [1, 2, 3, 4, 5, 6, 7, 8, 9, 10]\n",
    "kernels = ['linear', 'poly', 'rbf', 'sigmoid']\n",
    "f1_1_xgb = []\n",
    "f1_1_l = []\n",
    "f1_1_p = []\n",
    "f1_1_r = []\n",
    "f1_1_s = []\n",
    "f1_1_log = []"
   ]
  },
  {
   "cell_type": "markdown",
   "metadata": {},
   "source": [
    "Проверим, что происходит с f1-score при увеличении параметра min_count, который отвечает за учет слов, \n",
    "встречающихся с не меньшей частотой, чем, собственно, min_count"
   ]
  },
  {
   "cell_type": "code",
   "execution_count": 38,
   "metadata": {},
   "outputs": [
    {
     "name": "stdout",
     "output_type": "stream",
     "text": [
      "vecs =  1\n",
      "vecs =  2\n",
      "vecs =  3\n",
      "vecs =  4\n",
      "vecs =  5\n",
      "vecs =  6\n",
      "vecs =  7\n",
      "vecs =  8\n",
      "vecs =  9\n",
      "vecs =  10\n"
     ]
    }
   ],
   "source": [
    "X_train_texts, X_test_texts, y_train, y_test = train_test_split(preprocessed_train_with_ev.title, preprocessed_train.is_fake, test_size=0.2, random_state=21)\n",
    "\n",
    "for i in min_c:\n",
    "    test_d2v(1, 10, i, 100, preprocessed_train_with_ev, y_train, y_test, f1_1_xgb, f1_1_l, f1_1_p, f1_1_r, f1_1_s, f1_1_log)\n",
    "    "
   ]
  },
  {
   "cell_type": "code",
   "execution_count": 39,
   "metadata": {},
   "outputs": [
    {
     "data": {
      "image/png": "[encoded data removed]",
      "text/plain": [
       "<Figure size 432x288 with 1 Axes>"
      ]
     },
     "metadata": {
      "needs_background": "light"
     },
     "output_type": "display_data"
    }
   ],
   "source": [
    "graphic(1, min_c, f1_1_xgb, f1_1_l, f1_1_p, f1_1_r, f1_1_s, f1_1_log)"
   ]
  },
  {
   "cell_type": "markdown",
   "metadata": {},
   "source": [
    "По графику видно, что лучшие результаты дают алгоритмы на основе градиентного бустинга и SVC с ядром rbf, а также что большинство алгоритмов дают оптимальный результат с min_count = 5"
   ]
  },
  {
   "cell_type": "markdown",
   "metadata": {},
   "source": [
    "Теперь проверим, при какой длине вектора будут лучшие показатели"
   ]
  },
  {
   "cell_type": "code",
   "execution_count": 20,
   "metadata": {},
   "outputs": [],
   "source": [
    "f1_1_xgb = []\n",
    "f1_1_l = []\n",
    "f1_1_p = []\n",
    "f1_1_r = []\n",
    "f1_1_s = []\n",
    "f1_1_log = []"
   ]
  },
  {
   "cell_type": "code",
   "execution_count": 22,
   "metadata": {},
   "outputs": [
    {
     "name": "stdout",
     "output_type": "stream",
     "text": [
      "vecs =  5\n",
      "vecs =  10\n",
      "vecs =  30\n",
      "vecs =  50\n",
      "vecs =  100\n",
      "vecs =  150\n",
      "vecs =  200\n",
      "vecs =  300\n",
      "vecs =  400\n"
     ]
    }
   ],
   "source": [
    "for i in vecs:\n",
    "    test_d2v(2, i, 4, 100, preprocessed_train_with_ev, y_train, y_test, f1_1_xgb, f1_1_l, f1_1_p, f1_1_r, f1_1_s, f1_1_log)\n",
    "    \n",
    "    "
   ]
  },
  {
   "cell_type": "code",
   "execution_count": 23,
   "metadata": {},
   "outputs": [
    {
     "data": {
      "image/png": "[encoded data removed]",
      "text/plain": [
       "<Figure size 432x288 with 1 Axes>"
      ]
     },
     "metadata": {
      "needs_background": "light"
     },
     "output_type": "display_data"
    }
   ],
   "source": [
    "graphic(1, vecs, f1_1_xgb, f1_1_l, f1_1_p, f1_1_r, f1_1_s, f1_1_log)"
   ]
  },
  {
   "cell_type": "markdown",
   "metadata": {},
   "source": [
    "По графику видно, что большинство моделей дают лучший результат при длине вектора равной 300. Также видно, что большие метрики показывают те же алгоритмы, что и в предыдущем пункте."
   ]
  },
  {
   "cell_type": "markdown",
   "metadata": {},
   "source": [
    "Проверим теперь, на какой из выборок получается выше f1_score, Проверим сначала для градиентного бустинга, затем для SCV"
   ]
  },
  {
   "cell_type": "code",
   "execution_count": 31,
   "metadata": {},
   "outputs": [
    {
     "name": "stdout",
     "output_type": "stream",
     "text": [
      "0.7546848381601363\n"
     ]
    }
   ],
   "source": [
    "X_train, X_test, d2v = teach_d2v(preprocessed_train, 300, 4, 300)\n",
    "y_pred = xgb_(X_train, y_train, X_test, 10, 400)\n",
    "print(f1_score(y_pred, y_test))"
   ]
  },
  {
   "cell_type": "code",
   "execution_count": 32,
   "metadata": {},
   "outputs": [
    {
     "name": "stdout",
     "output_type": "stream",
     "text": [
      "0.7636986301369864\n"
     ]
    }
   ],
   "source": [
    "X_train, X_test, d2v = teach_d2v(preprocessed_train_with_def, 300, 4, 300)\n",
    "y_pred = xgb_(X_train, y_train, X_test, 10, 400)\n",
    "print(f1_score(y_pred, y_test))"
   ]
  },
  {
   "cell_type": "code",
   "execution_count": 33,
   "metadata": {},
   "outputs": [
    {
     "name": "stdout",
     "output_type": "stream",
     "text": [
      "0.782006920415225\n"
     ]
    }
   ],
   "source": [
    "X_train, X_test, d2v = teach_d2v(preprocessed_train_with_ev, 300, 4, 100)\n",
    "y_pred = xgb_(X_train, y_train, X_test, 10, 400)\n",
    "print(f1_score(y_pred, y_test))"
   ]
  },
  {
   "cell_type": "markdown",
   "metadata": {},
   "source": [
    "Видно, что на выборке, не очищенной от знаков препинания и латинских букв, результат получается лучше"
   ]
  },
  {
   "cell_type": "code",
   "execution_count": 34,
   "metadata": {},
   "outputs": [
    {
     "name": "stdout",
     "output_type": "stream",
     "text": [
      "0.7636363636363637\n"
     ]
    }
   ],
   "source": [
    "X_train, X_test, d2v = teach_d2v(preprocessed_train, 300, 4, 300)\n",
    "y_pred = svc_(X_train, y_train, X_test, 'rbf')\n",
    "print(f1_score(y_pred, y_test))"
   ]
  },
  {
   "cell_type": "code",
   "execution_count": 35,
   "metadata": {},
   "outputs": [
    {
     "name": "stdout",
     "output_type": "stream",
     "text": [
      "0.7808695652173913\n"
     ]
    }
   ],
   "source": [
    "X_train, X_test, d2v = teach_d2v(preprocessed_train_with_def, 300, 4, 300)\n",
    "y_pred = svc_(X_train, y_train, X_test, 'rbf')\n",
    "print(f1_score(y_pred, y_test))"
   ]
  },
  {
   "cell_type": "code",
   "execution_count": 36,
   "metadata": {},
   "outputs": [
    {
     "name": "stdout",
     "output_type": "stream",
     "text": [
      "0.7958115183246072\n"
     ]
    }
   ],
   "source": [
    "X_train, X_test, d2v = teach_d2v(preprocessed_train_with_ev, 300, 4, 300)\n",
    "y_pred = svc_(X_train, y_train, X_test, 'rbf')\n",
    "print(f1_score(y_pred, y_test))"
   ]
  },
  {
   "cell_type": "markdown",
   "metadata": {},
   "source": [
    "На втором классификаторе также видно, что наименее очищенная выборка дает f1-score выше, чем на остальных.\n",
    "Так что дальше мы будем работать только с выборкой, не очищенной от знаков препинания, цифр и латинских букв"
   ]
  },
  {
   "cell_type": "markdown",
   "metadata": {},
   "source": [
    "Также видно, что лучшие результаты показывает классификатор SVC, однако я проверила и этот алгоритм, и XGB. Перебором нескольких возможных параметров в этих двух алгоритмах я получила метрику f1-score не выше 0.81\n",
    "Дальнейший перебор параметров классификаторов не дал значительных улучшений, следовательно нужно было менять спосбов векторизации текста."
   ]
  }
 ],
 "metadata": {
  "kernelspec": {
   "display_name": "Python 3",
   "language": "python",
   "name": "python3"
  },
  "language_info": {
   "codemirror_mode": {
    "name": "ipython",
    "version": 3
   },
   "file_extension": ".py",
   "mimetype": "text/x-python",
   "name": "python",
   "nbconvert_exporter": "python",
   "pygments_lexer": "ipython3",
   "version": "3.7.6"
  }
 },
 "nbformat": 4,
 "nbformat_minor": 4
}
