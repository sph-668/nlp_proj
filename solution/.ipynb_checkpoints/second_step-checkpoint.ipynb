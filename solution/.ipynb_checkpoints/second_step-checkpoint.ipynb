{
 "cells": [
  {
   "cell_type": "markdown",
   "metadata": {},
   "source": [
    "В этом ноутбуке выбран другой способ векторизации текста, исследуются классификаторы и выбирается лучший, а также выбирается лучший вариант предобработки датасета"
   ]
  },
  {
   "cell_type": "code",
   "execution_count": 55,
   "metadata": {},
   "outputs": [],
   "source": [
    "import nltk\n",
    "import pandas as pd\n",
    "import sklearn\n",
    "import re\n",
    "import numpy as np\n",
    "from nltk.corpus import stopwords\n",
    "from nltk.tokenize import word_tokenize\n",
    "import pymorphy2\n",
    "from gensim.models.doc2vec import Doc2Vec, TaggedDocument\n",
    "from sklearn.model_selection import train_test_split\n",
    "from sklearn.preprocessing import StandardScaler\n",
    "from sklearn.linear_model import LogisticRegression\n",
    "from sklearn.svm import SVC\n",
    "from xgboost import XGBClassifier\n",
    "from sklearn.metrics import classification_report\n",
    "from sklearn.metrics import f1_score\n",
    "import matplotlib.pyplot as plt\n",
    "from sklearn.feature_extraction.text import CountVectorizer\n",
    "from sklearn.feature_extraction.text import TfidfTransformer\n",
    "from sklearn.naive_bayes import BernoulliNB\n",
    "from sklearn.svm import LinearSVC\n",
    "from sklearn.linear_model import SGDClassifier\n",
    "from sklearn.naive_bayes import MultinomialNB\n",
    "from sklearn.preprocessing import MinMaxScaler"
   ]
  },
  {
   "cell_type": "code",
   "execution_count": 56,
   "metadata": {},
   "outputs": [],
   "source": [
    "morph = pymorphy2.MorphAnalyzer()\n",
    "def text_preprocessing(text, id_):\n",
    "    text = text.lower() \n",
    "    text = text.replace('ё', 'е')\n",
    "    if (id_ == 1):\n",
    "        text = re.sub(r\"[^А-Яа-яЁё]\", \" \", text) \n",
    "    elif (id_ == 2):\n",
    "        text = re.sub(r\"[^«»-А-Яа-яЁё]\", \" \", text)                                                                                # удаляем все некириллические символы\n",
    "    else:\n",
    "        text = text\n",
    "    words = word_tokenize(text)                                                \n",
    "    words = [morph.parse(word)[0].normal_form for word in words]                \n",
    "    words = [word for word in words if word not in stopwords.words(\"russian\")] \n",
    "    return words"
   ]
  },
  {
   "cell_type": "code",
   "execution_count": 57,
   "metadata": {},
   "outputs": [],
   "source": [
    "train = pd.read_csv(\"../dataset/train.tsv\",sep='\\t', header = 0)\n",
    "test = pd.read_csv(\"../dataset/test.tsv\",sep='\\t', header = 0)"
   ]
  },
  {
   "cell_type": "markdown",
   "metadata": {},
   "source": [
    "Создаем три варианта датасета - один только с кириллическими символами, второй - с дефисами и кавычками, \n",
    "третий вообще без удаления чего-либо"
   ]
  },
  {
   "cell_type": "code",
   "execution_count": 58,
   "metadata": {},
   "outputs": [],
   "source": [
    "preprocessed_train = train.copy(deep = True)\n",
    "preprocessed_train_with_def = train.copy(deep = True)\n",
    "preprocessed_train_with_ev = train.copy(deep = True)"
   ]
  },
  {
   "cell_type": "code",
   "execution_count": 59,
   "metadata": {},
   "outputs": [],
   "source": [
    "preprocessed_train.title = train.title.apply(text_preprocessing, args=(1,))\n",
    "preprocessed_train_with_def.title = train.title.apply(text_preprocessing, args=(2,))\n",
    "preprocessed_train_with_ev.title = train.title.apply(text_preprocessing, args=(3,))\n"
   ]
  },
  {
   "cell_type": "code",
   "execution_count": 61,
   "metadata": {},
   "outputs": [],
   "source": [
    "preprocessed_train.title = preprocessed_train.title.apply(lambda x: ' '.join(x))\n",
    "preprocessed_train_with_def.title = preprocessed_train_with_def.title.apply(lambda x: ' '.join(x))\n",
    "preprocessed_train_with_ev.title = preprocessed_train_with_ev.title.apply(lambda x: ' '.join(x))\n"
   ]
  },
  {
   "cell_type": "markdown",
   "metadata": {},
   "source": [
    "Обучаем векторизаторы для каждого предобработанного датасета "
   ]
  },
  {
   "cell_type": "code",
   "execution_count": 63,
   "metadata": {},
   "outputs": [],
   "source": [
    "counts = count_vect.fit_transform(preprocessed_train.title)\n",
    "transformer = TfidfTransformer().fit(counts)\n",
    "counts = transformer.transform(counts)"
   ]
  },
  {
   "cell_type": "code",
   "execution_count": 64,
   "metadata": {},
   "outputs": [],
   "source": [
    "counts_with_def = count_vect.fit_transform(preprocessed_train_with_def.title)\n",
    "transformer = TfidfTransformer().fit(counts_with_def)\n",
    "counts_with_def = transformer.transform(counts_with_def)"
   ]
  },
  {
   "cell_type": "code",
   "execution_count": 65,
   "metadata": {},
   "outputs": [],
   "source": [
    "counts_with_ev = count_vect.fit_transform(preprocessed_train_with_ev.title)\n",
    "transformer = TfidfTransformer().fit(counts_with_ev)\n",
    "counts_with_ev = transformer.transform(counts_with_ev)"
   ]
  },
  {
   "cell_type": "markdown",
   "metadata": {},
   "source": [
    "Теперь попробуем подобрать параметры моделей и посмотреть, какие подходят больше всего"
   ]
  },
  {
   "cell_type": "code",
   "execution_count": 47,
   "metadata": {},
   "outputs": [],
   "source": [
    "#выборки для проверки с кросс-валидацией\n",
    "X_train = counts_with_ev\n",
    "y_train = preprocessed_train_with_ev.is_fake"
   ]
  },
  {
   "cell_type": "code",
   "execution_count": 48,
   "metadata": {},
   "outputs": [
    {
     "data": {
      "text/plain": [
       "GridSearchCV(cv=5, estimator=RandomForestClassifier(),\n",
       "             param_grid={'max_depth': range(1, 13, 2),\n",
       "                         'min_samples_leaf': range(1, 8),\n",
       "                         'min_samples_split': range(2, 10, 2),\n",
       "                         'n_estimators': range(10, 51, 10)})"
      ]
     },
     "execution_count": 48,
     "metadata": {},
     "output_type": "execute_result"
    }
   ],
   "source": [
    "from sklearn.model_selection import GridSearchCV\n",
    "from sklearn.ensemble import RandomForestClassifier\n",
    "\n",
    "clf = RandomForestClassifier()\n",
    "parametrs = { 'n_estimators': range (10, 51, 10),\n",
    "              'max_depth': range (1,13, 2),\n",
    "              'min_samples_leaf': range (1,8),\n",
    "              'min_samples_split': range (2,10,2) }\n",
    "\n",
    "grid = GridSearchCV(clf, parametrs, cv=5)\n",
    "grid.fit(X_train, y_train)"
   ]
  },
  {
   "cell_type": "code",
   "execution_count": 49,
   "metadata": {},
   "outputs": [
    {
     "data": {
      "text/plain": [
       "0.7669324379766387"
      ]
     },
     "execution_count": 49,
     "metadata": {},
     "output_type": "execute_result"
    }
   ],
   "source": [
    "grid.best_score_"
   ]
  },
  {
   "cell_type": "code",
   "execution_count": 50,
   "metadata": {},
   "outputs": [
    {
     "data": {
      "text/plain": [
       "{'max_depth': 11,\n",
       " 'min_samples_leaf': 3,\n",
       " 'min_samples_split': 8,\n",
       " 'n_estimators': 50}"
      ]
     },
     "execution_count": 50,
     "metadata": {},
     "output_type": "execute_result"
    }
   ],
   "source": [
    "grid.best_params_"
   ]
  },
  {
   "cell_type": "code",
   "execution_count": 52,
   "metadata": {},
   "outputs": [
    {
     "data": {
      "text/plain": [
       "GridSearchCV(cv=5, estimator=MultinomialNB(),\n",
       "             param_grid={'alpha': array([0.01      , 0.01099099, 0.01198198, 0.01297297, 0.01396396,\n",
       "       0.01495495, 0.01594595, 0.01693694, 0.01792793, 0.01891892,\n",
       "       0.01990991, 0.0209009 , 0.02189189, 0.02288288, 0.02387387,\n",
       "       0.02486486, 0.02585586, 0.02684685, 0.02783784, 0.02882883,\n",
       "       0.02981982, 0.03081081, 0.0318018 , 0.03279279, 0.03378378,\n",
       "       0.03477477, 0...\n",
       "       0.96630631, 0.9672973 , 0.96828829, 0.96927928, 0.97027027,\n",
       "       0.97126126, 0.97225225, 0.97324324, 0.97423423, 0.97522523,\n",
       "       0.97621622, 0.97720721, 0.9781982 , 0.97918919, 0.98018018,\n",
       "       0.98117117, 0.98216216, 0.98315315, 0.98414414, 0.98513514,\n",
       "       0.98612613, 0.98711712, 0.98810811, 0.9890991 , 0.99009009,\n",
       "       0.99108108, 0.99207207, 0.99306306, 0.99405405, 0.99504505,\n",
       "       0.99603604, 0.99702703, 0.99801802, 0.99900901, 1.        ])})"
      ]
     },
     "execution_count": 52,
     "metadata": {},
     "output_type": "execute_result"
    }
   ],
   "source": [
    "model = MultinomialNB()\n",
    "parametrs = { 'alpha': np.linspace(0.01, 1, 1000) }\n",
    "grid = GridSearchCV(model, parametrs, cv=5)\n",
    "grid.fit(X_train, y_train)"
   ]
  },
  {
   "cell_type": "code",
   "execution_count": 53,
   "metadata": {},
   "outputs": [
    {
     "data": {
      "text/plain": [
       "0.8532483830485568"
      ]
     },
     "execution_count": 53,
     "metadata": {},
     "output_type": "execute_result"
    }
   ],
   "source": [
    "grid.best_score_"
   ]
  },
  {
   "cell_type": "code",
   "execution_count": 54,
   "metadata": {},
   "outputs": [
    {
     "data": {
      "text/plain": [
       "{'alpha': 0.2646846846846847}"
      ]
     },
     "execution_count": 54,
     "metadata": {},
     "output_type": "execute_result"
    }
   ],
   "source": [
    "grid.best_params_"
   ]
  },
  {
   "cell_type": "code",
   "execution_count": 60,
   "metadata": {},
   "outputs": [
    {
     "data": {
      "text/plain": [
       "GridSearchCV(cv=5, estimator=BernoulliNB(),\n",
       "             param_grid={'alpha': array([0.01      , 0.01099099, 0.01198198, 0.01297297, 0.01396396,\n",
       "       0.01495495, 0.01594595, 0.01693694, 0.01792793, 0.01891892,\n",
       "       0.01990991, 0.0209009 , 0.02189189, 0.02288288, 0.02387387,\n",
       "       0.02486486, 0.02585586, 0.02684685, 0.02783784, 0.02882883,\n",
       "       0.02981982, 0.03081081, 0.0318018 , 0.03279279, 0.03378378,\n",
       "       0.03477477, 0.0...\n",
       "       0.96630631, 0.9672973 , 0.96828829, 0.96927928, 0.97027027,\n",
       "       0.97126126, 0.97225225, 0.97324324, 0.97423423, 0.97522523,\n",
       "       0.97621622, 0.97720721, 0.9781982 , 0.97918919, 0.98018018,\n",
       "       0.98117117, 0.98216216, 0.98315315, 0.98414414, 0.98513514,\n",
       "       0.98612613, 0.98711712, 0.98810811, 0.9890991 , 0.99009009,\n",
       "       0.99108108, 0.99207207, 0.99306306, 0.99405405, 0.99504505,\n",
       "       0.99603604, 0.99702703, 0.99801802, 0.99900901, 1.        ])})"
      ]
     },
     "execution_count": 60,
     "metadata": {},
     "output_type": "execute_result"
    }
   ],
   "source": [
    "model = BernoulliNB()\n",
    "parametrs = { 'alpha': np.linspace(0.01, 1, 1000) }\n",
    "grid = GridSearchCV(model, parametrs, cv=5)\n",
    "grid.fit(X_train, y_train)"
   ]
  },
  {
   "cell_type": "code",
   "execution_count": 61,
   "metadata": {},
   "outputs": [
    {
     "data": {
      "text/plain": [
       "0.8697452094796795"
      ]
     },
     "execution_count": 61,
     "metadata": {},
     "output_type": "execute_result"
    }
   ],
   "source": [
    "grid.best_score_"
   ]
  },
  {
   "cell_type": "code",
   "execution_count": 62,
   "metadata": {},
   "outputs": [
    {
     "data": {
      "text/plain": [
       "{'alpha': 0.6283783783783784}"
      ]
     },
     "execution_count": 62,
     "metadata": {},
     "output_type": "execute_result"
    }
   ],
   "source": [
    "grid.best_params_"
   ]
  },
  {
   "cell_type": "code",
   "execution_count": 63,
   "metadata": {},
   "outputs": [
    {
     "data": {
      "text/plain": [
       "GridSearchCV(cv=5, estimator=SVC(kernel='poly'),\n",
       "             param_grid={'C': range(1, 10), 'gamma': range(1, 8)})"
      ]
     },
     "execution_count": 63,
     "metadata": {},
     "output_type": "execute_result"
    }
   ],
   "source": [
    "model = SVC(kernel=\"poly\")\n",
    "parametrs = { 'C': range(1, 10),\n",
    "              'gamma': range(1, 8)}\n",
    "grid = GridSearchCV(model, parametrs, cv=5)\n",
    "grid.fit(X_train, y_train)"
   ]
  },
  {
   "cell_type": "code",
   "execution_count": 64,
   "metadata": {},
   "outputs": [
    {
     "data": {
      "text/plain": [
       "0.8424823824693503"
      ]
     },
     "execution_count": 64,
     "metadata": {},
     "output_type": "execute_result"
    }
   ],
   "source": [
    "grid.best_score_"
   ]
  },
  {
   "cell_type": "code",
   "execution_count": 65,
   "metadata": {},
   "outputs": [
    {
     "data": {
      "text/plain": [
       "{'C': 1, 'gamma': 1}"
      ]
     },
     "execution_count": 65,
     "metadata": {},
     "output_type": "execute_result"
    }
   ],
   "source": [
    "grid.best_params_"
   ]
  },
  {
   "cell_type": "code",
   "execution_count": 67,
   "metadata": {},
   "outputs": [
    {
     "data": {
      "text/plain": [
       "GridSearchCV(cv=5, estimator=SVC(kernel='linear'),\n",
       "             param_grid={'C': range(1, 10), 'gamma': range(1, 8)})"
      ]
     },
     "execution_count": 67,
     "metadata": {},
     "output_type": "execute_result"
    }
   ],
   "source": [
    "model = SVC(kernel=\"linear\")\n",
    "parametrs = { 'C': range(1, 10),\n",
    "              'gamma': range(1, 8)}\n",
    "grid = GridSearchCV(model, parametrs, cv=5)\n",
    "grid.fit(X_train, y_train)"
   ]
  },
  {
   "cell_type": "code",
   "execution_count": 68,
   "metadata": {},
   "outputs": [
    {
     "data": {
      "text/plain": [
       "0.8365164715331115"
      ]
     },
     "execution_count": 68,
     "metadata": {},
     "output_type": "execute_result"
    }
   ],
   "source": [
    "grid.best_score_"
   ]
  },
  {
   "cell_type": "code",
   "execution_count": 69,
   "metadata": {},
   "outputs": [
    {
     "data": {
      "text/plain": [
       "{'C': 1, 'gamma': 1}"
      ]
     },
     "execution_count": 69,
     "metadata": {},
     "output_type": "execute_result"
    }
   ],
   "source": [
    "grid.best_params_"
   ]
  },
  {
   "cell_type": "code",
   "execution_count": 70,
   "metadata": {},
   "outputs": [
    {
     "data": {
      "text/plain": [
       "GridSearchCV(cv=5, estimator=SVC(),\n",
       "             param_grid={'C': range(1, 10), 'gamma': range(1, 8)})"
      ]
     },
     "execution_count": 70,
     "metadata": {},
     "output_type": "execute_result"
    }
   ],
   "source": [
    "model = SVC(kernel=\"rbf\")\n",
    "parametrs = { 'C': range(1, 10),\n",
    "              'gamma': range(1, 8)}\n",
    "grid = GridSearchCV(model, parametrs, cv=5)\n",
    "grid.fit(X_train, y_train)"
   ]
  },
  {
   "cell_type": "code",
   "execution_count": 71,
   "metadata": {},
   "outputs": [
    {
     "data": {
      "text/plain": [
       "0.8443317058464699"
      ]
     },
     "execution_count": 71,
     "metadata": {},
     "output_type": "execute_result"
    }
   ],
   "source": [
    "grid.best_score_"
   ]
  },
  {
   "cell_type": "code",
   "execution_count": 72,
   "metadata": {},
   "outputs": [
    {
     "data": {
      "text/plain": [
       "{'C': 3, 'gamma': 1}"
      ]
     },
     "execution_count": 72,
     "metadata": {},
     "output_type": "execute_result"
    }
   ],
   "source": [
    "grid.best_params_"
   ]
  },
  {
   "cell_type": "code",
   "execution_count": 121,
   "metadata": {},
   "outputs": [
    {
     "data": {
      "text/plain": [
       "GridSearchCV(cv=5,\n",
       "             estimator=XGBClassifier(base_score=None, booster=None,\n",
       "                                     callbacks=None, colsample_bylevel=None,\n",
       "                                     colsample_bynode=None,\n",
       "                                     colsample_bytree=None,\n",
       "                                     early_stopping_rounds=None,\n",
       "                                     enable_categorical=False, eval_metric=None,\n",
       "                                     gamma=None, gpu_id=None, grow_policy=None,\n",
       "                                     importance_type=None,\n",
       "                                     interaction_constraints=None,\n",
       "                                     learning_rate=None, max_bin=None,\n",
       "                                     max_cat_to_onehot=None,\n",
       "                                     max_delta_step=None, max_depth=None,\n",
       "                                     max_leaves=None, min_child_weight=None,\n",
       "                                     missing=nan, monotone_constraints=None,\n",
       "                                     n_estimators=100, n_jobs=None,\n",
       "                                     num_parallel_tree=None, predictor=None,\n",
       "                                     random_state=None, reg_alpha=None,\n",
       "                                     reg_lambda=None, ...),\n",
       "             param_grid={'max_depth': range(2, 10),\n",
       "                         'min_child_weight': range(1, 5),\n",
       "                         'n_estimators': range(80, 200, 4)})"
      ]
     },
     "execution_count": 121,
     "metadata": {},
     "output_type": "execute_result"
    }
   ],
   "source": [
    "model = XGBClassifier()\n",
    "parametrs = {\n",
    "        'n_estimators':range(80,200,4),\n",
    "        'max_depth':range(2,10),\n",
    "        'min_child_weight':range(1,5)\n",
    "        }\n",
    "\n",
    "grid = GridSearchCV(model, parametrs, cv=5)\n",
    "grid.fit(X_train, y_train)"
   ]
  },
  {
   "cell_type": "code",
   "execution_count": 122,
   "metadata": {},
   "outputs": [
    {
     "data": {
      "text/plain": [
       "0.8078576290507582"
      ]
     },
     "execution_count": 122,
     "metadata": {},
     "output_type": "execute_result"
    }
   ],
   "source": [
    "grid.best_score_"
   ]
  },
  {
   "cell_type": "code",
   "execution_count": 123,
   "metadata": {},
   "outputs": [
    {
     "data": {
      "text/plain": [
       "{'max_depth': 8, 'min_child_weight': 1, 'n_estimators': 196}"
      ]
     },
     "execution_count": 123,
     "metadata": {},
     "output_type": "execute_result"
    }
   ],
   "source": [
    "grid.best_params_"
   ]
  },
  {
   "cell_type": "markdown",
   "metadata": {},
   "source": [
    "Также ради интереса попробовала обучить классификаторы на stackingclassifier"
   ]
  },
  {
   "cell_type": "markdown",
   "metadata": {},
   "source": [
    "Создаем тестовые и валидационные выборки"
   ]
  },
  {
   "cell_type": "code",
   "execution_count": 139,
   "metadata": {},
   "outputs": [],
   "source": [
    "X_train, X_test, y_train, y_test = train_test_split(counts_with_ev, preprocessed_train_with_ev.is_fake, test_size=0.2)"
   ]
  },
  {
   "cell_type": "code",
   "execution_count": 140,
   "metadata": {},
   "outputs": [
    {
     "data": {
      "text/plain": [
       "0.8329177057356608"
      ]
     },
     "execution_count": 140,
     "metadata": {},
     "output_type": "execute_result"
    }
   ],
   "source": [
    "clf1 = BernoulliNB(alpha = 0.62837837837)\n",
    "clf2 = MultinomialNB(alpha = 0.2646846846846847)\n",
    "clf3 = SVC(kernel=\"poly\") \n",
    "\n",
    "lr = LogisticRegression()\n",
    "\n",
    "sclf = StackingClassifier(classifiers=[clf1, clf2, clf3],\n",
    "                          meta_classifier=lr)\n",
    "clf1.fit(X_train, y_train)\n",
    "clf2.fit(X_train, y_train)\n",
    "clf3.fit(X_train, y_train)\n",
    "sclf.fit(X_train, y_train)\n",
    "y_pred = sclf.predict(X_test)\n",
    "f1_score(y_pred, y_test)"
   ]
  },
  {
   "cell_type": "code",
   "execution_count": 141,
   "metadata": {},
   "outputs": [
    {
     "data": {
      "text/plain": [
       "0.6349397590361445"
      ]
     },
     "execution_count": 141,
     "metadata": {},
     "output_type": "execute_result"
    }
   ],
   "source": [
    "from mlxtend.classifier import StackingClassifier\n",
    "clf1 = BernoulliNB(alpha = 0.2)\n",
    "clf2 = LogisticRegression(C=3.6)\n",
    "clf3 = SVC(kernel=\"poly\") \n",
    "\n",
    "lr = MultinomialNB(alpha = 0.16)\n",
    "\n",
    "sclf = StackingClassifier(classifiers=[clf1, clf2],\n",
    "                          meta_classifier=lr)\n",
    "clf1.fit(X_train, y_train)\n",
    "clf2.fit(X_train, y_train)\n",
    "clf3.fit(X_train, y_train)\n",
    "sclf.fit(X_train, y_train)\n",
    "y_pred = sclf.predict(X_test)\n",
    "f1_score(y_pred, y_test)"
   ]
  },
  {
   "cell_type": "markdown",
   "metadata": {},
   "source": [
    "Видим, что больший скор дает модель BernoulliNB с параметром alpha = 0.6283783783783784\n",
    "Теперь посмотрим, на какой выборке эта модель даст лучший результат:"
   ]
  },
  {
   "cell_type": "code",
   "execution_count": 125,
   "metadata": {},
   "outputs": [],
   "source": [
    "X_train, X_test, y_train, y_test = train_test_split(counts, preprocessed_train_with_ev.is_fake, test_size=0.2, random_state=21)"
   ]
  },
  {
   "cell_type": "code",
   "execution_count": 126,
   "metadata": {},
   "outputs": [
    {
     "name": "stdout",
     "output_type": "stream",
     "text": [
      "0.8543859649122807\n"
     ]
    }
   ],
   "source": [
    "model = BernoulliNB(alpha = 0.6283783783783784).fit(X_train, y_train)\n",
    "y_pred = model.predict(X_test)\n",
    "print(f1_score(y_pred, y_test))"
   ]
  },
  {
   "cell_type": "code",
   "execution_count": 127,
   "metadata": {},
   "outputs": [],
   "source": [
    "X_train, X_test, y_train, y_test = train_test_split(counts_with_def, preprocessed_train_with_ev.is_fake, test_size=0.2)"
   ]
  },
  {
   "cell_type": "code",
   "execution_count": 128,
   "metadata": {},
   "outputs": [
    {
     "name": "stdout",
     "output_type": "stream",
     "text": [
      "0.8723404255319148\n"
     ]
    }
   ],
   "source": [
    "model = BernoulliNB(alpha = 0.6283783783783784).fit(X_train, y_train)\n",
    "y_pred = model.predict(X_test)\n",
    "print(f1_score(y_pred, y_test))"
   ]
  },
  {
   "cell_type": "code",
   "execution_count": 133,
   "metadata": {},
   "outputs": [],
   "source": [
    "X_train, X_test, y_train, y_test = train_test_split(counts_with_ev, preprocessed_train_with_ev.is_fake, test_size=0.2)"
   ]
  },
  {
   "cell_type": "code",
   "execution_count": 134,
   "metadata": {},
   "outputs": [
    {
     "name": "stdout",
     "output_type": "stream",
     "text": [
      "0.8865619546247818\n"
     ]
    }
   ],
   "source": [
    "model = BernoulliNB(alpha = 0.6283783783783784).fit(X_train, y_train)\n",
    "y_pred = model.predict(X_test)\n",
    "print(f1_score(y_pred, y_test))"
   ]
  },
  {
   "cell_type": "markdown",
   "metadata": {},
   "source": [
    "Можно снова сказать, что на неочищенной выборке f1_score получается больше, чем на всех остальных, поэтому для обучения классификатора для предсказаний на тестовом наборе также будет использовать неочищенный датафрейм."
   ]
  },
  {
   "cell_type": "markdown",
   "metadata": {},
   "source": [
    "Результат получился лучше, чем при векторизации doc2vecом, так что будем использовать TF-IDF. Мы получили модель с наиболее высоким скором, так что осталось только получить результат на тестовой"
   ]
  }
 ],
 "metadata": {
  "kernelspec": {
   "display_name": "Python 3",
   "language": "python",
   "name": "python3"
  },
  "language_info": {
   "codemirror_mode": {
    "name": "ipython",
    "version": 3
   },
   "file_extension": ".py",
   "mimetype": "text/x-python",
   "name": "python",
   "nbconvert_exporter": "python",
   "pygments_lexer": "ipython3",
   "version": "3.7.6"
  }
 },
 "nbformat": 4,
 "nbformat_minor": 4
}
