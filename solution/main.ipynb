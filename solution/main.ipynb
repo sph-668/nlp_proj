{
 "cells": [
  {
   "cell_type": "code",
   "execution_count": 1,
   "metadata": {},
   "outputs": [],
   "source": [
    "import nltk\n",
    "import pandas as pd\n",
    "import numpy as np\n",
    "import sklearn\n",
    "import re\n",
    "from nltk.corpus import stopwords\n",
    "from nltk.tokenize import word_tokenize\n",
    "import pymorphy2\n",
    "from sklearn.model_selection import train_test_split\n",
    "from sklearn.metrics import classification_report\n",
    "from sklearn.metrics import f1_score\n",
    "from sklearn.feature_extraction.text import CountVectorizer\n",
    "from sklearn.feature_extraction.text import TfidfTransformer\n",
    "from sklearn.naive_bayes import BernoulliNB\n",
    "from sklearn.naive_bayes import MultinomialNB\n",
    "from sklearn.preprocessing import MinMaxScaler\n",
    "from sklearn.model_selection import cross_val_score"
   ]
  },
  {
   "cell_type": "markdown",
   "metadata": {},
   "source": [
    "Определим функцию предобработки текстовых данных. Она состоит из следующих шагов:\n",
    "1. Приведение символов к нижнему регистру\n",
    "2. Замена букв \"ё\" на \"е\" - были замечены одинаковые слова, написанные через разные буквы - особенность письменной речи\n",
    "3. Были три варианта очистки текста от лишних символов: \n",
    "    1. Очистка всего, что не является кириллицей - для получения смысла только от слов\n",
    "    2. Очистка всего, кроме кириллицы и знаков \"\" и -(дефис). Кавычки иногда служат средством выразительности, так что это мог бы быть один из признаков для отличия настоящих новостей. Если удаляются дефисы - происходит потеря смысла для некоторых слов и разделение их на части, что ведет к ухудшению обучения моделей\n",
    "    3. Не очищать ничего вообще, потому что текст является осмысленным, и, например, числа могут оказаться важны (можно было еще предусмотреть одинаковую обработку числительных, написанных цифрами и буквами - имело бы смысл для большей выборки с часто встречающимися числовыми значениями)\n",
    "В конечном итоге в ходе экспериментов было установлено, что лучший результат на тестовой выборке получается, если не очищать текст от знаков препинания, цифр и т.д\n",
    "4. Разбиение текста на слова\n",
    "5. Приведение слов в начальную форму\n",
    "6. Удаление стоп-слов"
   ]
  },
  {
   "cell_type": "code",
   "execution_count": 2,
   "metadata": {},
   "outputs": [],
   "source": [
    "morph = pymorphy2.MorphAnalyzer()\n",
    "def text_preprocessing(text, id_):\n",
    "    \n",
    "    text = text.lower() #приведение к нижнему регистру\n",
    "    text = text.replace('ё', 'е') #замена букв                                     \n",
    "    if (id_ == 1):\n",
    "        text = re.sub(r\"[^А-Яа-яЁё]\", \" \", text) \n",
    "    elif (id_ == 2):\n",
    "        text = re.sub(r\"[^«»-А-Яа-яЁё]\", \" \", text)                                                                                # удаляем все некириллические символы\n",
    "    else:\n",
    "        text = text\n",
    "    words = word_tokenize(text) #токенизация                                          \n",
    "    words = [morph.parse(word)[0].normal_form for word in words] #лемматизация             \n",
    "    words = [word for word in words if word not in stopwords.words(\"russian\")] #удаление стоп-слов\n",
    "    return words"
   ]
  },
  {
   "cell_type": "code",
   "execution_count": 3,
   "metadata": {},
   "outputs": [],
   "source": [
    "#Выгрузка данных из датафреймов\n",
    "train = pd.read_csv(\"../dataset/train.tsv\",sep='\\t', header = 0)\n",
    "test = pd.read_csv(\"../dataset/test.tsv\",sep='\\t', header = 0)"
   ]
  },
  {
   "cell_type": "code",
   "execution_count": 4,
   "metadata": {},
   "outputs": [],
   "source": [
    "#Предобработка текстовых данных датафреймов\n",
    "preprocessed_train = train.copy(deep = True)\n",
    "preprocessed_train.title = train.title.apply(text_preprocessing, args=(3,))\n",
    "preprocessed_train.title = preprocessed_train.title.apply(lambda x: ' '.join(x))\n",
    "\n",
    "preprocessed_test = test.copy(deep = True)\n",
    "preprocessed_test.title = test.title.apply(text_preprocessing, args=(3,))\n",
    "preprocessed_test.title = preprocessed_test.title.apply(lambda x: ' '.join(x))"
   ]
  },
  {
   "cell_type": "code",
   "execution_count": 5,
   "metadata": {},
   "outputs": [],
   "source": [
    "#Создание и обучение векторизатора\n",
    "count_vect = CountVectorizer()\n",
    "counts = count_vect.fit(preprocessed_train.title)"
   ]
  },
  {
   "cell_type": "code",
   "execution_count": 6,
   "metadata": {},
   "outputs": [],
   "source": [
    "#Векторизация тренировочной выборки\n",
    "counts = count_vect.transform(preprocessed_train.title)\n",
    "transformer = TfidfTransformer().fit(counts)\n",
    "vectorized_title = transformer.transform(counts)"
   ]
  },
  {
   "cell_type": "code",
   "execution_count": 7,
   "metadata": {},
   "outputs": [],
   "source": [
    "#Векторизация тестовой выборки\n",
    "counts = count_vect.transform(preprocessed_test.title)\n",
    "transformer = TfidfTransformer().fit(counts)\n",
    "vectorized_title_test = transformer.transform(counts)"
   ]
  },
  {
   "cell_type": "code",
   "execution_count": 8,
   "metadata": {},
   "outputs": [],
   "source": [
    "#Деление на обучающую и валидационную выборки\n",
    "X_train, X_test, y_train, y_test = train_test_split(vectorized_title, preprocessed_train.is_fake, test_size=0.2)"
   ]
  },
  {
   "cell_type": "code",
   "execution_count": 9,
   "metadata": {},
   "outputs": [],
   "source": [
    "#Создание создание выборок для кросс-валидации\n",
    "X_for_cross = vectorized_title\n",
    "y_for_cross = preprocessed_train.is_fake"
   ]
  },
  {
   "cell_type": "code",
   "execution_count": 10,
   "metadata": {},
   "outputs": [
    {
     "data": {
      "text/plain": [
       "0.8831646734130635"
      ]
     },
     "execution_count": 10,
     "metadata": {},
     "output_type": "execute_result"
    }
   ],
   "source": [
    "#Создание и обучение модели с нилучшими параметрами\n",
    "model = BernoulliNB(alpha = 0.62837837837).fit(X_train, y_train)\n",
    "#Получение предсказания\n",
    "y_pred = model.predict(X_test)\n",
    "f1_score(y_pred, y_test)"
   ]
  },
  {
   "cell_type": "code",
   "execution_count": 11,
   "metadata": {},
   "outputs": [
    {
     "name": "stdout",
     "output_type": "stream",
     "text": [
      "              precision    recall  f1-score   support\n",
      "\n",
      "           0       0.92      0.87      0.90       623\n",
      "           1       0.86      0.91      0.88       529\n",
      "\n",
      "    accuracy                           0.89      1152\n",
      "   macro avg       0.89      0.89      0.89      1152\n",
      "weighted avg       0.89      0.89      0.89      1152\n",
      "\n"
     ]
    }
   ],
   "source": [
    "print(classification_report(y_pred, y_test))"
   ]
  },
  {
   "cell_type": "code",
   "execution_count": 12,
   "metadata": {},
   "outputs": [
    {
     "data": {
      "text/plain": [
       "array([0.87152778, 0.86892361, 0.87586806, 0.86967854, 0.86272806])"
      ]
     },
     "execution_count": 12,
     "metadata": {},
     "output_type": "execute_result"
    }
   ],
   "source": [
    "cross_val_score(model, X_for_cross, y_for_cross, cv=5)"
   ]
  },
  {
   "cell_type": "code",
   "execution_count": 13,
   "metadata": {},
   "outputs": [],
   "source": [
    "prediction = pd.read_csv(\"../dataset/test.tsv\",sep='\\t', header = 0)"
   ]
  },
  {
   "cell_type": "code",
   "execution_count": 14,
   "metadata": {},
   "outputs": [],
   "source": [
    "#Создание тестовых X и y\n",
    "X_test = vectorized_title_test\n",
    "y_pred = model.predict(X_test)"
   ]
  },
  {
   "cell_type": "code",
   "execution_count": 15,
   "metadata": {},
   "outputs": [],
   "source": [
    "prediction.is_fake = y_pred"
   ]
  },
  {
   "cell_type": "code",
   "execution_count": 16,
   "metadata": {},
   "outputs": [
    {
     "data": {
      "text/html": [
       "<div>\n",
       "<style scoped>\n",
       "    .dataframe tbody tr th:only-of-type {\n",
       "        vertical-align: middle;\n",
       "    }\n",
       "\n",
       "    .dataframe tbody tr th {\n",
       "        vertical-align: top;\n",
       "    }\n",
       "\n",
       "    .dataframe thead th {\n",
       "        text-align: right;\n",
       "    }\n",
       "</style>\n",
       "<table border=\"1\" class=\"dataframe\">\n",
       "  <thead>\n",
       "    <tr style=\"text-align: right;\">\n",
       "      <th></th>\n",
       "      <th>title</th>\n",
       "      <th>is_fake</th>\n",
       "    </tr>\n",
       "  </thead>\n",
       "  <tbody>\n",
       "    <tr>\n",
       "      <th>0</th>\n",
       "      <td>Роскомнадзор представил реестр сочетаний цвето...</td>\n",
       "      <td>1</td>\n",
       "    </tr>\n",
       "    <tr>\n",
       "      <th>1</th>\n",
       "      <td>Ночью под Минском на президентской горе Белара...</td>\n",
       "      <td>1</td>\n",
       "    </tr>\n",
       "    <tr>\n",
       "      <th>2</th>\n",
       "      <td>Бывший спичрайтер Юрия Лозы рассказал о трудно...</td>\n",
       "      <td>1</td>\n",
       "    </tr>\n",
       "    <tr>\n",
       "      <th>3</th>\n",
       "      <td>Сельская церковь, собравшая рекордно низкое ко...</td>\n",
       "      <td>1</td>\n",
       "    </tr>\n",
       "    <tr>\n",
       "      <th>4</th>\n",
       "      <td>Акции Google рухнули после объявления о переза...</td>\n",
       "      <td>0</td>\n",
       "    </tr>\n",
       "    <tr>\n",
       "      <th>...</th>\n",
       "      <td>...</td>\n",
       "      <td>...</td>\n",
       "    </tr>\n",
       "    <tr>\n",
       "      <th>995</th>\n",
       "      <td>Прокуратура заподозрила Явлинского в авторитар...</td>\n",
       "      <td>1</td>\n",
       "    </tr>\n",
       "    <tr>\n",
       "      <th>996</th>\n",
       "      <td>В День Победы стратегические ракетоносцы Ту-16...</td>\n",
       "      <td>1</td>\n",
       "    </tr>\n",
       "    <tr>\n",
       "      <th>997</th>\n",
       "      <td>СК возбудил дело против авиакомпании «Победа» ...</td>\n",
       "      <td>1</td>\n",
       "    </tr>\n",
       "    <tr>\n",
       "      <th>998</th>\n",
       "      <td>Криптомонетный двор Туркменистана выпустил юби...</td>\n",
       "      <td>1</td>\n",
       "    </tr>\n",
       "    <tr>\n",
       "      <th>999</th>\n",
       "      <td>Deutsche Bahn заплатит рекордный штраф за чтен...</td>\n",
       "      <td>1</td>\n",
       "    </tr>\n",
       "  </tbody>\n",
       "</table>\n",
       "<p>1000 rows × 2 columns</p>\n",
       "</div>"
      ],
      "text/plain": [
       "                                                 title  is_fake\n",
       "0    Роскомнадзор представил реестр сочетаний цвето...        1\n",
       "1    Ночью под Минском на президентской горе Белара...        1\n",
       "2    Бывший спичрайтер Юрия Лозы рассказал о трудно...        1\n",
       "3    Сельская церковь, собравшая рекордно низкое ко...        1\n",
       "4    Акции Google рухнули после объявления о переза...        0\n",
       "..                                                 ...      ...\n",
       "995  Прокуратура заподозрила Явлинского в авторитар...        1\n",
       "996  В День Победы стратегические ракетоносцы Ту-16...        1\n",
       "997  СК возбудил дело против авиакомпании «Победа» ...        1\n",
       "998  Криптомонетный двор Туркменистана выпустил юби...        1\n",
       "999  Deutsche Bahn заплатит рекордный штраф за чтен...        1\n",
       "\n",
       "[1000 rows x 2 columns]"
      ]
     },
     "execution_count": 16,
     "metadata": {},
     "output_type": "execute_result"
    }
   ],
   "source": [
    "prediction"
   ]
  },
  {
   "cell_type": "code",
   "execution_count": 17,
   "metadata": {},
   "outputs": [],
   "source": [
    "#Загрузка получившегося фрейма в файл\n",
    "prediction.to_csv(\"../prediction.tsv\", sep = \"\\t\", index=False)"
   ]
  }
 ],
 "metadata": {
  "kernelspec": {
   "display_name": "Python 3",
   "language": "python",
   "name": "python3"
  },
  "language_info": {
   "codemirror_mode": {
    "name": "ipython",
    "version": 3
   },
   "file_extension": ".py",
   "mimetype": "text/x-python",
   "name": "python",
   "nbconvert_exporter": "python",
   "pygments_lexer": "ipython3",
   "version": "3.7.6"
  }
 },
 "nbformat": 4,
 "nbformat_minor": 4
}
